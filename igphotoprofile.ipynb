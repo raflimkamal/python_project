{
 "cells": [
  {
   "cell_type": "code",
   "execution_count": 2,
   "metadata": {},
   "outputs": [
    {
     "name": "stdout",
     "output_type": "stream",
     "text": [
      "Requirement already satisfied: instaloader in c:\\users\\raflimkamal\\anaconda3\\lib\\site-packages (4.7.1)\n",
      "Requirement already satisfied: requests>=2.4 in c:\\users\\raflimkamal\\anaconda3\\lib\\site-packages (from instaloader) (2.21.0)\n",
      "Requirement already satisfied: urllib3<1.25,>=1.21.1 in c:\\users\\raflimkamal\\anaconda3\\lib\\site-packages (from requests>=2.4->instaloader) (1.24.1)\n",
      "Requirement already satisfied: chardet<3.1.0,>=3.0.2 in c:\\users\\raflimkamal\\anaconda3\\lib\\site-packages (from requests>=2.4->instaloader) (3.0.4)\n",
      "Requirement already satisfied: idna<2.9,>=2.5 in c:\\users\\raflimkamal\\anaconda3\\lib\\site-packages (from requests>=2.4->instaloader) (2.8)\n",
      "Requirement already satisfied: certifi>=2017.4.17 in c:\\users\\raflimkamal\\anaconda3\\lib\\site-packages (from requests>=2.4->instaloader) (2020.6.20)\n",
      "Note: you may need to restart the kernel to use updated packages.\n"
     ]
    }
   ],
   "source": [
    "pip install instaloader"
   ]
  },
  {
   "cell_type": "code",
   "execution_count": 4,
   "metadata": {},
   "outputs": [
    {
     "name": "stderr",
     "output_type": "stream",
     "text": [
      "C:\\Users\\RafliMKamal\\Anaconda3\\lib\\site-packages\\win_unicode_console\\__init__.py:31: RuntimeWarning: sys.stdin.encoding == 'cp1252', whereas sys.stdout.encoding == 'UTF-8', readline hook consumer may assume they are the same\n",
      "  readline_hook.enable(use_pyreadline=use_pyreadline)\n"
     ]
    }
   ],
   "source": [
    "import instaloader"
   ]
  },
  {
   "cell_type": "code",
   "execution_count": 6,
   "metadata": {},
   "outputs": [
    {
     "name": "stdout",
     "output_type": "stream",
     "text": [
      "Enter Insta Username:raflimkamal\n"
     ]
    },
    {
     "name": "stderr",
     "output_type": "stream",
     "text": [
      "JSON Query to raflimkamal/feed/: HTTPSConnectionPool(host='www.instagram.com', port=443): Max retries exceeded with url: /raflimkamal/feed/ (Caused by NewConnectionError('<urllib3.connection.VerifiedHTTPSConnection object at 0x000001F7D02E6C88>: Failed to establish a new connection: [Errno 11001] getaddrinfo failed')) [retrying; skip with ^C]\n"
     ]
    },
    {
     "name": "stdout",
     "output_type": "stream",
     "text": [
      "raflimkamal\\2020-08-12_08-06-41_UTC_profile_pic.jpg already exists\n"
     ]
    }
   ],
   "source": [
    "ig = instaloader.Instaloader()\n",
    "dp = input(\"Enter Insta Username:\")\n",
    "\n",
    "ig.download_profile(dp, profile_pic_only = True)"
   ]
  },
  {
   "cell_type": "code",
   "execution_count": null,
   "metadata": {},
   "outputs": [],
   "source": []
  }
 ],
 "metadata": {
  "kernelspec": {
   "display_name": "Python 3",
   "language": "python",
   "name": "python3"
  },
  "language_info": {
   "codemirror_mode": {
    "name": "ipython",
    "version": 3
   },
   "file_extension": ".py",
   "mimetype": "text/x-python",
   "name": "python",
   "nbconvert_exporter": "python",
   "pygments_lexer": "ipython3",
   "version": "3.7.3"
  }
 },
 "nbformat": 4,
 "nbformat_minor": 2
}
